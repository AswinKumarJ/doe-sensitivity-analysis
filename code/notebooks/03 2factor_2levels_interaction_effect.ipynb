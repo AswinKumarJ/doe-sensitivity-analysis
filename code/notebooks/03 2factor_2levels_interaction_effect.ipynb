{
 "cells": [
  {
   "cell_type": "code",
   "execution_count": null,
   "metadata": {
    "colab": {
     "base_uri": "https://localhost:8080/"
    },
    "id": "TmpGb2aI-yE5",
    "outputId": "90d7a4ec-401b-4067-c802-2f454946f6bd"
   },
   "outputs": [
    {
     "name": "stdout",
     "output_type": "stream",
     "text": [
      "Requirement already satisfied: pandas in /usr/local/lib/python3.6/dist-packages (1.1.5)\n",
      "Requirement already satisfied: python-dateutil>=2.7.3 in /usr/local/lib/python3.6/dist-packages (from pandas) (2.8.1)\n",
      "Requirement already satisfied: pytz>=2017.2 in /usr/local/lib/python3.6/dist-packages (from pandas) (2018.9)\n",
      "Requirement already satisfied: numpy>=1.15.4 in /usr/local/lib/python3.6/dist-packages (from pandas) (1.19.4)\n",
      "Requirement already satisfied: six>=1.5 in /usr/local/lib/python3.6/dist-packages (from python-dateutil>=2.7.3->pandas) (1.15.0)\n"
     ]
    }
   ],
   "source": [
    "!pip install pandas"
   ]
  },
  {
   "cell_type": "code",
   "execution_count": null,
   "metadata": {
    "colab": {
     "base_uri": "https://localhost:8080/"
    },
    "id": "qZG_krSN--t3",
    "outputId": "cbb50114-e425-404c-e44f-e00e6286dfc8"
   },
   "outputs": [
    {
     "name": "stdout",
     "output_type": "stream",
     "text": [
      "   Experiment No  factor 1  factor 2  output 1 (units)\n",
      "0              1         3        25               320\n",
      "1              2         3        50               435\n",
      "2              3         6        25               490\n",
      "3              4         6        50               670\n",
      "[3, 3, 6, 6] [25, 50, 25, 50] [320, 435, 490, 670]\n"
     ]
    }
   ],
   "source": [
    "import pandas as pd\n",
    "import csv\n",
    "df=pd.read_csv('/2factor_2levels.csv')\n",
    "print(df);\n",
    "factor1=df['factor 1'].tolist()\n",
    "factor2=df['factor 2'].tolist()\n",
    "output=df['output 1 (units)'].tolist()\n",
    "print(factor1,factor2,output);"
   ]
  },
  {
   "cell_type": "code",
   "execution_count": null,
   "metadata": {
    "id": "rYZMzCB4LV_M"
   },
   "outputs": [],
   "source": [
    "def twointeff(factor1_values,factor2_values,output_values):\n",
    "    interaction_effect=0\n",
    "    low_f2_eff_f1=0\n",
    "    high_f2_eff_f1=0\n",
    "    tot_high_values=len(output_values)/2\n",
    "    for i in range(len(output_values)):\n",
    "        if factor2_values[i]==min(factor2_values):\n",
    "            if factor1_values[i]==max(factor1_values):\n",
    "                low_f2_eff_f1+=output_values[i]\n",
    "            elif factor1_values[i]==min(factor1_values):\n",
    "                low_f2_eff_f1-=output_values[i]\n",
    "        elif factor2_values[i]==max(factor2_values):\n",
    "            if factor1_values[i]==max(factor1_values):\n",
    "                high_f2_eff_f1+=output_values[i]\n",
    "            elif factor1_values[i]==min(factor1_values):\n",
    "                high_f2_eff_f1-=output_values[i]\n",
    "    interaction_effect=high_f2_eff_f1-low_f2_eff_f1\n",
    "    return interaction_effect/tot_high_values"
   ]
  },
  {
   "cell_type": "code",
   "execution_count": null,
   "metadata": {
    "colab": {
     "base_uri": "https://localhost:8080/"
    },
    "id": "j5WdWdEfLaAD",
    "outputId": "b549adf3-f86b-4641-856d-4aac5b70a394"
   },
   "outputs": [
    {
     "name": "stdout",
     "output_type": "stream",
     "text": [
      "the interaction effect of factor 1 and 2 is 32.5\n"
     ]
    }
   ],
   "source": [
    "a=twointeff(factor1,factor2,output);\n",
    "print('the interaction effect of factor 1 and 2 is',a)"
   ]
  },
  {
   "cell_type": "code",
   "execution_count": null,
   "metadata": {
    "colab": {
     "base_uri": "https://localhost:8080/"
    },
    "id": "K9zTEcaeJh_v",
    "outputId": "b1593a15-867a-42ae-f407-b7d11facb65c"
   },
   "outputs": [
    {
     "name": "stdout",
     "output_type": "stream",
     "text": [
      "    Experiment No  factor 1  factor 2  factor 3  factor 4  output 1 (units)\n",
      "0               1       3.2        25       5.4       200              17.9\n",
      "1               2       3.2        25       5.4       220              20.3\n",
      "2               3       3.2        25       6.9       200              15.0\n",
      "3               4       3.2        25       6.9       220              18.0\n",
      "4               5       3.2        60       5.4       200              17.5\n",
      "5               6       3.2        60       5.4       220              21.5\n",
      "6               7       3.2        60       6.9       200              24.2\n",
      "7               8       3.2        60       6.9       220              27.6\n",
      "8               9       6.5        25       5.4       200              19.5\n",
      "9              10       6.5        25       5.4       220              22.0\n",
      "10             11       6.5        25       6.9       200              19.5\n",
      "11             12       6.5        25       6.9       220              26.0\n",
      "12             13       6.5        60       5.4       200              24.0\n",
      "13             14       6.5        60       5.4       220              17.0\n",
      "14             15       6.5        60       6.9       200              16.8\n",
      "15             16       6.5        60       6.9       220              20.7\n",
      "the three way interaction effect of factor1, 2 and 3 is  -6.375000000000001\n"
     ]
    }
   ],
   "source": [
    "\n",
    "df2=pd.read_csv('/4factor_2levels.csv')\n",
    "print(df2)\n",
    "def threeinteff(f1,f2,f3,op):\n",
    "    effect_lc=0\n",
    "    effect_hc=0\n",
    "    effect=0\n",
    "    tot_high_values=len(op)/2
    "    for i in range(len(op)):\n",
    "        if f3[i]==min(f3):\n",
    "            if f2[i]==min(f2):\n",
    "                if f1[i]==max(f1):\n",
    "                    effect_lc=effect_lc-op[i]\n",
    "                elif f1[i]==min(f1):\n",
    "                    effect_lc=effect_lc+op[i]\n",
    "            elif f2[i]==max(f2):\n",
    "                if f1[i]==max(f1):\n",
    "                    effect_lc=effect_lc+op[i]\n",
    "                elif f1[i]==min(f1):\n",
    "                    effect_lc=effect_lc-op[i]\n",
    "        elif f3[i]==max(f3):\n",
    "            if f2[i]==min(f2):\n",
    "                if f1[i]==max(f1):\n",
    "                    effect_hc=effect_hc-op[i]\n",
    "                elif f1[i]==min(f1):\n",
    "                    effect_hc=effect_hc+op[i]\n",
    "            elif f2[i]==max(f2):\n",
    "                if f1[i]==max(f1):\n",
    "                    effect_hc=effect_hc+op[i]\n",
    "                elif f1[i]==min(f1):\n",
    "                    effect_hc=effect_hc-op[i]\n",
    "    effect=(effect_hc-effect_lc)/4\n",
    "    return effect\n",
    "threeway=threeinteff(df2['factor 1'].tolist(),df2['factor 2'].tolist(),df2['factor 3'].tolist(),df2['output 1 (units)'])\n",
    "print(\"the three way interaction effect of factor1, 2 and 3 is \",threeway)"
   ]
  }
 ],
 "metadata": {
  "colab": {
   "name": "2factor_interaction_effect.ipynb",
   "provenance": []
  },
  "kernelspec": {
   "display_name": "Python 3",
   "language": "python",
   "name": "python3"
  },
  "language_info": {
   "codemirror_mode": {
    "name": "ipython",
    "version": 3
   },
   "file_extension": ".py",
   "mimetype": "text/x-python",
   "name": "python",
   "nbconvert_exporter": "python",
   "pygments_lexer": "ipython3",
   "version": "3.6.5"
  },
  "toc": {
   "base_numbering": 1,
   "nav_menu": {},
   "number_sections": true,
   "sideBar": true,
   "skip_h1_title": false,
   "title_cell": "Table of Contents",
   "title_sidebar": "Contents",
   "toc_cell": false,
   "toc_position": {},
   "toc_section_display": true,
   "toc_window_display": false
  },
  "varInspector": {
   "cols": {
    "lenName": 16,
    "lenType": 16,
    "lenVar": 40
   },
   "kernels_config": {
    "python": {
     "delete_cmd_postfix": "",
     "delete_cmd_prefix": "del ",
     "library": "var_list.py",
     "varRefreshCmd": "print(var_dic_list())"
    },
    "r": {
     "delete_cmd_postfix": ") ",
     "delete_cmd_prefix": "rm(",
     "library": "var_list.r",
     "varRefreshCmd": "cat(var_dic_list()) "
    }
   },
   "types_to_exclude": [
    "module",
    "function",
    "builtin_function_or_method",
    "instance",
    "_Feature"
   ],
   "window_display": false
  }
 },
 "nbformat": 4,
 "nbformat_minor": 1
}
